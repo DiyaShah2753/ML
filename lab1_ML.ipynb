{
  "nbformat": 4,
  "nbformat_minor": 0,
  "metadata": {
    "colab": {
      "provenance": [],
      "authorship_tag": "ABX9TyN9Wo80gFxpYI2ghHkRoM2D",
      "include_colab_link": true
    },
    "kernelspec": {
      "name": "python3",
      "display_name": "Python 3"
    },
    "language_info": {
      "name": "python"
    }
  },
  "cells": [
    {
      "cell_type": "markdown",
      "metadata": {
        "id": "view-in-github",
        "colab_type": "text"
      },
      "source": [
        "<a href=\"https://colab.research.google.com/github/DiyaShah2753/ML/blob/main/lab1_ML.ipynb\" target=\"_parent\"><img src=\"https://colab.research.google.com/assets/colab-badge.svg\" alt=\"Open In Colab\"/></a>"
      ]
    },
    {
      "cell_type": "code",
      "execution_count": null,
      "metadata": {
        "colab": {
          "base_uri": "https://localhost:8080/"
        },
        "id": "BG1ayz8Zh-j1",
        "outputId": "df205d28-7d8e-4458-86a5-be02c75420cc"
      },
      "outputs": [
        {
          "output_type": "stream",
          "name": "stdout",
          "text": [
            "5 Type: <class 'int'>\n",
            "Hello Type: <class 'str'>\n",
            "[1, 2, 3] Type: <class 'list'>\n",
            "[1, 2, 3, 4, 5]\n",
            "[1 2 3 4]\n",
            "<class 'list'>\n",
            "<class 'numpy.ndarray'>\n",
            "[2 4 6 8]\n",
            "[1, 2, 3, 4, 5, 1, 2, 3, 4, 5]\n",
            "[1, 2, 3, 4, 5, 1, 2, 3, 4, 5]\n",
            "[1, 2, 3, 4, 5, 1, 2, 3, 4]\n",
            "[ 3  6  9 12]\n",
            "[1, 2, 3, 4, 5, 1, 2, 3, 4, 5, 1, 2, 3, 4, 5]\n",
            "[[ 6.  8.]\n",
            " [10. 12.]]\n",
            "[[ 6.  8.]\n",
            " [10. 12.]]\n",
            "[[-4. -4.]\n",
            " [-4. -4.]]\n",
            "[[-4. -4.]\n",
            " [-4. -4.]]\n",
            "[[ 5. 12.]\n",
            " [21. 32.]]\n",
            "[[ 5. 12.]\n",
            " [21. 32.]]\n",
            "[[19. 22.]\n",
            " [43. 50.]]\n",
            "[[0.2        0.33333333]\n",
            " [0.42857143 0.5       ]]\n",
            "[[0.2        0.33333333]\n",
            " [0.42857143 0.5       ]]\n"
          ]
        }
      ],
      "source": [
        "import numpy as np\n",
        "x = 5\n",
        "print(x,\"Type:\",type(x))\n",
        "x = \"Hello\"\n",
        "print(x,\"Type:\",type(x))\n",
        "x = [1,2,3]\n",
        "print(x,\"Type:\",type(x))\n",
        "\n",
        "\n",
        "alist = [1, 2, 3, 4, 5]\n",
        "narray = np.array([1,2,3,4])\n",
        "print(alist)\n",
        "print(narray)\n",
        "print(type(alist))\n",
        "print(type(narray))\n",
        "\n",
        "narray1 = np.array([1, 2, 3])\n",
        "print(narray + narray)\n",
        "print(alist + alist)\n",
        "\n",
        "#print(narray + narray1)\n",
        "print(alist + alist)\n",
        "\n",
        "alist1 = [1, 2, 3, 4]\n",
        "\n",
        "print(alist + alist1)\n",
        "\n",
        "print(narray * 3)\n",
        "print(alist * 3)\n",
        "\n",
        "x = np.array([[1,2],[3,4]],dtype = np.float64)\n",
        "y = np.array([[5,6],[7,8]],dtype = np.float64)\n",
        "\n",
        "print(x+y)\n",
        "print(np.add(x,y))\n",
        "\n",
        "print(x - y)\n",
        "print(np.subtract(x, y))\n",
        "\n",
        "print(x * y)\n",
        "print(np.multiply(x, y))\n",
        "\n",
        "print(x.dot(y))\n",
        "\n",
        "\n",
        "print(x/y)\n",
        "print(np.divide(x,y))"
      ]
    },
    {
      "cell_type": "code",
      "source": [
        "print(np.sqrt(x))\n",
        "\n",
        "\n",
        "x = np.array([[1,2],[3,4]])\n",
        "y = np.array([[5,6],[7,8]])\n",
        "v = np.array([9,10])\n",
        "w = np.array([11, 12])\n",
        "print(v.dot(w))\n",
        "print(np.dot(v, w))\n",
        "\n",
        "print(v @ w)\n",
        "\n",
        "print(x.dot(v))\n",
        "print(np.dot(x, v))\n",
        "print(x @ v)"
      ],
      "metadata": {
        "colab": {
          "base_uri": "https://localhost:8080/"
        },
        "id": "wr9k2Yi4orrs",
        "outputId": "cf220026-3aa8-4d14-9b3a-ef85b5d2851e"
      },
      "execution_count": null,
      "outputs": [
        {
          "output_type": "stream",
          "name": "stdout",
          "text": [
            "[[1.         1.41421356]\n",
            " [1.73205081 2.        ]]\n",
            "219\n",
            "219\n",
            "219\n",
            "[29 67]\n",
            "[29 67]\n",
            "[29 67]\n"
          ]
        }
      ]
    },
    {
      "cell_type": "code",
      "source": [
        "x = np.array([[1,2],[3,4]])\n",
        "print(np.sum(x))\n",
        "print(np.sum(x , axis=0))\n",
        "print(np.sum(x , axis=1))"
      ],
      "metadata": {
        "colab": {
          "base_uri": "https://localhost:8080/"
        },
        "id": "WnAwvbPDpf39",
        "outputId": "ec30f21b-ed0c-4233-8705-5ebb91de6e9f"
      },
      "execution_count": null,
      "outputs": [
        {
          "output_type": "stream",
          "name": "stdout",
          "text": [
            "10\n",
            "[4 6]\n",
            "[3 7]\n"
          ]
        }
      ]
    },
    {
      "cell_type": "code",
      "source": [
        "print(x)\n",
        "print(\"Transpose\\n\",x.T)\n",
        "\n",
        "v = np.array([[1,2,3]])\n",
        "\n",
        "print(v )\n",
        "print(\"transpose\\n\", v.T)"
      ],
      "metadata": {
        "colab": {
          "base_uri": "https://localhost:8080/"
        },
        "id": "QSRW1DE8qsgc",
        "outputId": "5504f84f-0d75-4878-a5e0-d3fe2f2ab6c9"
      },
      "execution_count": null,
      "outputs": [
        {
          "output_type": "stream",
          "name": "stdout",
          "text": [
            "[[1 2]\n",
            " [3 4]]\n",
            "Transpose\n",
            " [[1 3]\n",
            " [2 4]]\n",
            "[[1 2 3]]\n",
            "transpose\n",
            " [[1]\n",
            " [2]\n",
            " [3]]\n"
          ]
        }
      ]
    },
    {
      "cell_type": "code",
      "source": [
        "npmatrix1 = np.array([narray, narray, narray])\n",
        "npmatrix2 = np.array([alist, alist, alist])\n",
        "npmatrix3 = np.array([narray, [1, 1, 1, 1], narray])\n",
        "print(npmatrix1)\n",
        "print(npmatrix2)\n",
        "print(npmatrix3)"
      ],
      "metadata": {
        "colab": {
          "base_uri": "https://localhost:8080/"
        },
        "id": "jgKDJbTMsYLw",
        "outputId": "a5868f6e-2ab9-4229-c3ea-056732c50247"
      },
      "execution_count": null,
      "outputs": [
        {
          "output_type": "stream",
          "name": "stdout",
          "text": [
            "[[1 2 3 4]\n",
            " [1 2 3 4]\n",
            " [1 2 3 4]]\n",
            "[[1 2 3 4 5]\n",
            " [1 2 3 4 5]\n",
            " [1 2 3 4 5]]\n",
            "[[1 2 3 4]\n",
            " [1 1 1 1]\n",
            " [1 2 3 4]]\n"
          ]
        }
      ]
    },
    {
      "cell_type": "code",
      "source": [
        "okmatrix = np.array([[1,2],[3,4]])\n",
        "print(okmatrix)\n",
        "\n",
        "print(okmatrix * 2)\n",
        "\n",
        "\n",
        "\n",
        "badmatrix = np.array([[1,2 ], [3, 4], [6,7, 8]], dtype=object) \n",
        "print(badmatrix)\n",
        "print(badmatrix * 2)\n",
        "\n",
        "\n",
        "print(okmatrix)\n",
        "result = okmatrix * 2 + 1 \n",
        "print(result)\n",
        "\n",
        "result1 = okmatrix + okmatrix\n",
        "print(result1)\n",
        "\n",
        "\n",
        "result1 = okmatrix - okmatrix\n",
        "print(result1)\n",
        "\n",
        "result = okmatrix * okmatrix\n",
        "print(result)"
      ],
      "metadata": {
        "colab": {
          "base_uri": "https://localhost:8080/"
        },
        "id": "xd6jzZ39s8kU",
        "outputId": "57929d6b-fc8b-4fd9-8d43-7935a3f5319d"
      },
      "execution_count": null,
      "outputs": [
        {
          "output_type": "stream",
          "name": "stdout",
          "text": [
            "[[1 2]\n",
            " [3 4]]\n",
            "[[2 4]\n",
            " [6 8]]\n",
            "[list([1, 2]) list([3, 4]) list([6, 7, 8])]\n",
            "[list([1, 2, 1, 2]) list([3, 4, 3, 4]) list([6, 7, 8, 6, 7, 8])]\n",
            "[[1 2]\n",
            " [3 4]]\n",
            "[[3 5]\n",
            " [7 9]]\n",
            "[[2 4]\n",
            " [6 8]]\n",
            "[[0 0]\n",
            " [0 0]]\n"
          ]
        }
      ]
    },
    {
      "cell_type": "code",
      "source": [
        "matrixmn = np.array([[1,2],[3,4],[5,6]])\n",
        "print('matrixmn 3 x 2')\n",
        "print(matrixmn)\n",
        "print('matrixmnTranspose 2 x 3')\n",
        "print(matrixmn.T)\n",
        "\n",
        "\n",
        "nparray = np.array([1, 2, 3, 4]) \n",
        "print('Original array')\n",
        "print(nparray)\n",
        "print('Transposed array')\n",
        "print(nparray.T)\n",
        "\n",
        "\n",
        "nparray = np.array([[1, 2, 3, 4]]) \n",
        "print('Original array')\n",
        "print(nparray)\n",
        "print('Transposed array')\n",
        "print(nparray.T)\n"
      ],
      "metadata": {
        "colab": {
          "base_uri": "https://localhost:8080/"
        },
        "id": "wnkcpNYBy8zU",
        "outputId": "6a57fa10-34dd-49a9-de0d-d48096e46ce9"
      },
      "execution_count": null,
      "outputs": [
        {
          "output_type": "stream",
          "name": "stdout",
          "text": [
            "matrixmn 3 x 2\n",
            "[[1 2]\n",
            " [3 4]\n",
            " [5 6]]\n",
            "matrixmnTranspose 2 x 3\n",
            "[[1 3 5]\n",
            " [2 4 6]]\n",
            "Original array\n",
            "[1 2 3 4]\n",
            "Transposed array\n",
            "[1 2 3 4]\n",
            "Original array\n",
            "[[1 2 3 4]]\n",
            "Transposed array\n",
            "[[1]\n",
            " [2]\n",
            " [3]\n",
            " [4]]\n"
          ]
        }
      ]
    },
    {
      "cell_type": "code",
      "source": [
        "narray = np.array([1,2,3,4])\n",
        "norm1 = np.linalg.norm(narray)\n",
        "print(norm1)\n",
        "\n",
        "narray = np.array([[1,2],[3,4]])\n",
        "norm1 = np.linalg.norm(narray)\n",
        "print(norm1)\n",
        "\n",
        "\n",
        "nparray2 = np.array([[1, 1], [2, 2], [3, 3]])\n",
        "normByCols = np.linalg.norm(nparray2, axis=0) \n",
        "normByRows = np.linalg.norm(nparray2, axis=1)\n",
        "print(normByCols)\n",
        "print(normByRows)"
      ],
      "metadata": {
        "colab": {
          "base_uri": "https://localhost:8080/"
        },
        "id": "qmfHZV2t1ZKy",
        "outputId": "1b5d5bde-93a3-4748-a335-6c7bf645f4be"
      },
      "execution_count": null,
      "outputs": [
        {
          "output_type": "stream",
          "name": "stdout",
          "text": [
            "5.477225575051661\n",
            "5.477225575051661\n",
            "[3.74165739 3.74165739]\n",
            "[1.41421356 2.82842712 4.24264069]\n"
          ]
        }
      ]
    },
    {
      "cell_type": "code",
      "source": [
        "narray = np.array([0,1,2,3])\n",
        "narray2 = np.array([4, 5, 6, 7])\n",
        "\n",
        "result = np.dot(narray,narray2)\n",
        "print(result)\n",
        "\n",
        "result1 = np.sum(narray * narray2)\n",
        "print(result1)\n",
        "\n",
        "result1 = narray @ narray2\n",
        "print(result1)\n",
        "\n",
        "\n",
        "flavor4 = 0\n",
        "for a, b in zip(narray, nparray2):\n",
        "  flavor4 += a * b\n",
        "print(flavor4)"
      ],
      "metadata": {
        "colab": {
          "base_uri": "https://localhost:8080/"
        },
        "id": "IpxPwwG63A1u",
        "outputId": "1ea1a4a8-b712-4518-8315-e4c2a170b1a3"
      },
      "execution_count": null,
      "outputs": [
        {
          "output_type": "stream",
          "name": "stdout",
          "text": [
            "38\n",
            "38\n",
            "38\n",
            "38\n"
          ]
        }
      ]
    },
    {
      "cell_type": "code",
      "source": [
        "norm1 = np.dot([1,2],[3,4])\n",
        "#norm1 = np.dot(np.array([1, 2]), np.array([3, 4]))\n",
        "norm2 = np.dot(np.array([1,2]),np.array([3,4]))\n",
        "print(norm1)\n",
        "print(norm2) \n",
        "print(norm1, '=', norm2 )"
      ],
      "metadata": {
        "colab": {
          "base_uri": "https://localhost:8080/"
        },
        "id": "TCxPWYOR4n92",
        "outputId": "e2ff1ca1-81de-4052-88e8-2fcd0b4ed331"
      },
      "execution_count": null,
      "outputs": [
        {
          "output_type": "stream",
          "name": "stdout",
          "text": [
            "11\n",
            "11\n",
            "11 = 11\n"
          ]
        }
      ]
    }
  ]
}